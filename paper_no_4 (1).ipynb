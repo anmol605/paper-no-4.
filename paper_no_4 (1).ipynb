{
  "nbformat": 4,
  "nbformat_minor": 0,
  "metadata": {
    "colab": {
      "provenance": []
    },
    "kernelspec": {
      "name": "python3",
      "display_name": "Python 3"
    },
    "language_info": {
      "name": "python"
    }
  },
  "cells": [
    {
      "cell_type": "code",
      "execution_count": null,
      "metadata": {
        "id": "cO2mV6UM5Jr_"
      },
      "outputs": [],
      "source": []
    },
    {
      "cell_type": "markdown",
      "source": [
        "# python OOPs Question"
      ],
      "metadata": {
        "id": "zLqrZrYN5QRV"
      }
    },
    {
      "cell_type": "markdown",
      "source": [
        "Q 1) What is Object-Oriented Programming (OOP)?\n",
        "    \n",
        "    *Object-Oriented Programming (OOP) is a programming paradigm based on the concept of “objects”, which can contain:\n",
        "    \n",
        "    Data in the form of fields (also called attributes or properties), and\n",
        "\n",
        "    Code in the form of methods (functions associated with the object).\n",
        "\n",
        "    Key Concepts of OOP:\n",
        "\n",
        "    Class – A blueprint for creating objects.\n",
        "\n",
        "    Object – An instance of a class.\n",
        "\n",
        "    Encapsulation – Hiding internal state and requiring all interaction through methods.\n",
        "\n",
        "    Inheritance – Mechanism for a new class to use properties of an existing class.\n",
        "\n",
        "    Polymorphism – The ability to use a shared interface for different data types.\n",
        "\n",
        "    Abstraction – Hiding unnecessary implementation details and showing only the essentials.\n",
        "\n",
        "\n",
        "\n"
      ],
      "metadata": {
        "id": "IWSXL8ef6L9O"
      }
    },
    {
      "cell_type": "markdown",
      "source": [
        "Q 2) What is a Class in OOP?\n",
        "\n",
        "    *A class in Object-Oriented Programming is a blueprint or template for creating objects (instances). It defines a set of attributes (data) and methods (functions) that describe the behavior and properties of the object."
      ],
      "metadata": {
        "id": "-xLCDI3466cf"
      }
    },
    {
      "cell_type": "markdown",
      "source": [
        "Q 3) What is an Object in OOP?\n",
        "\n",
        "    An object is an instance of a class.\n",
        "    It represents a real-world entity and combines data (attributes) and behavior (methods) defined by its class.\n",
        "\n",
        "    Key Characteristics:\n",
        "\n",
        "    Created from a class\n",
        "\n",
        "    Stores actual data\n",
        "\n",
        "    Can access class methods and attributes"
      ],
      "metadata": {
        "id": "F1YzG-2p7ntp"
      }
    },
    {
      "cell_type": "markdown",
      "source": [
        "Q 4) What is the difference between abstraction and encapsulation?\n",
        "    \n",
        "    *Abstraction hides complex implementation details and shows only the functionality.\n",
        "\n",
        "    Encapsulation wraps data and methods into a single unit and restricts direct access."
      ],
      "metadata": {
        "id": "XdzHDdVo7_1E"
      }
    },
    {
      "cell_type": "markdown",
      "source": [
        "Q 5) 5. What are dunder methods in Python?\n",
        "\n",
        "    *Dunder methods (like __init__, __str__, etc.) are special methods with double underscores used to define object behavior."
      ],
      "metadata": {
        "id": "xlB6xrCp8JqG"
      }
    },
    {
      "cell_type": "markdown",
      "source": [
        " Q 6) Explain the Concept of Inheritance in OOP\n",
        "Inheritance is one of the core concepts of Object-Oriented\n",
        "\n",
        "    *Programming (OOP).\n",
        "    It allows a class (child or derived class) to inherit the attributes and methods of another class (parent or base class).\n",
        "\n",
        "    Why Use Inheritance?\n",
        "    Promotes code reusability\n",
        "\n",
        "    Supports hierarchical classification\n",
        "\n",
        "    Enables polymorphism\n",
        "\n",
        "    Types of Inheritance in Python:\n",
        "    Single Inheritance – One child class inherits from one parent.\n",
        "\n",
        "    Multiple Inheritance – One child class inherits from multiple parents.\n",
        "\n",
        "    Multilevel Inheritance – A class inherits from a child class that already inherits from another.\n",
        "\n",
        "    Hierarchical Inheritance – Multiple child classes inherit from one parent.\n",
        "\n"
      ],
      "metadata": {
        "id": "ZR72BqSm8l8G"
      }
    },
    {
      "cell_type": "markdown",
      "source": [
        "Q 7) What is polymorphism in OOP?\n",
        "\n",
        "    *Polymorphism allows objects of different classes to be treated as objects of a common superclass. It enables method overriding and operator overloading."
      ],
      "metadata": {
        "id": "u4fhdX5w89me"
      }
    },
    {
      "cell_type": "markdown",
      "source": [
        " Q 8) How is Encapsulation Achieved in Python?\n",
        "\n",
        "    *Encapsulation is the concept of binding data (attributes) and methods (functions) that manipulate the data into a single unit — the class.\n",
        "    It also involves restricting access to some parts of an object, which helps prevent unintended interference and misuse.\n",
        "\n",
        "    Encapsulation in Python is achieved by:\n",
        "    Using access modifiers:\n",
        "\n",
        "    public: accessible from anywhere (name)\n",
        "\n",
        "    _protected: accessible within the class and its subclasses (_name)\n",
        "\n",
        "    private: accessible only within the class (__name)\n",
        "\n",
        "    Using getter and setter methods to access and update private variables.\n",
        "\n"
      ],
      "metadata": {
        "id": "1BaV8pc39CHt"
      }
    },
    {
      "cell_type": "markdown",
      "source": [
        "Q 9) What is a Constructor in Python?\n",
        "\n",
        "    *A constructor in Python is a special method used to initialize objects when they are created from a class.\n",
        "    In Python, the constructor method is named __init__() and is automatically called when a new object is instantiated.\n",
        "\n",
        "    Purpose of Constructor:\n",
        "    Set initial values to object attributes\n",
        "\n",
        "    Run any setup code when the object is created\n",
        "\n"
      ],
      "metadata": {
        "id": "H85A7gMt9YHs"
      }
    },
    {
      "cell_type": "code",
      "source": [
        "#Q 10 What are class and static methods in Python?\n",
        "class MyClass:\n",
        "    count = 100\n",
        "\n",
        "    @classmethod\n",
        "    def increment(cls):\n",
        "        cls.count += 1\n",
        "\n",
        "    @staticmethod\n",
        "    def greet():\n",
        "        print(\"Hello!\")\n"
      ],
      "metadata": {
        "id": "u_o9WxRX9wTM"
      },
      "execution_count": 12,
      "outputs": []
    },
    {
      "cell_type": "markdown",
      "source": [
        "Q 11) What is Method Overloading in Python?\n",
        "\n",
        "    *Method Overloading is the ability to define multiple methods with the same name but different number or types of parameters.\n",
        "\n",
        "    However, Python does not support true method overloading like Java or C++.\n",
        "    In Python, if you define multiple methods with the same name, the last one will overwrite the previous ones."
      ],
      "metadata": {
        "id": "f8ax9hRn-YsV"
      }
    },
    {
      "cell_type": "code",
      "source": [
        "# Q 12) What is method overriding in OOP?\n",
        "\n",
        "class Parent:\n",
        "    def show(self):\n",
        "        print(\"Parent\")\n",
        "\n",
        "class Child(Parent):\n",
        "    def show(self):\n",
        "        print(\"Child\")\n"
      ],
      "metadata": {
        "id": "svoMnPYI-d2G"
      },
      "execution_count": 13,
      "outputs": []
    },
    {
      "cell_type": "markdown",
      "source": [
        "Q 13) What is a property decorator in Python?\n",
        "    *The @property decorator in Python is used to define a method as a \"getter\" for a class attribute, allowing access like an attribute while still using method functionality. It promotes encapsulation and allows computed attributes."
      ],
      "metadata": {
        "id": "AXQZ2jcT-zPf"
      }
    },
    {
      "cell_type": "markdown",
      "source": [
        "Q 14) Why is polymorphism important in OOP?\n",
        "\n",
        "    *Polymorphism allows different classes to be treated through a common interface. It enhances flexibility and maintainability by allowing functions to use objects of different types interchangeably, reducing code duplication.\n",
        "\n",
        "Q 15) What is an abstract class in Python?\n",
        "\n",
        "    *An abstract class in Python is a class that cannot be instantiated directly. It is defined using the abc module and may contain abstract methods (declared but not implemented). Subclasses must implement all abstract methods.\n",
        "\n"
      ],
      "metadata": {
        "id": "FeCYOc-y_xVh"
      }
    },
    {
      "cell_type": "markdown",
      "source": [
        "Q 16) What are the advantages of OOP?\n",
        "\n",
        "    Modularity: Code is organized into classes.\n",
        "\n",
        "    Reusability: Inheritance allows reuse of code.\n",
        "\n",
        "    Scalability: Easier to manage and extend large programs.\n",
        "\n",
        "    Encapsulation: Data is hidden and protected.\n",
        "\n",
        "    Polymorphism: Enables interface flexibility.\n",
        "\n",
        "Q 17) What is the difference between a class variable and an instance variable?\n",
        "\n",
        "    Class variable: Shared among all instances of a class. Defined inside the class but outside methods.\n",
        "\n",
        "    Instance variable: Unique to each object. Defined inside methods using self."
      ],
      "metadata": {
        "id": "dYE6CWxZ_90s"
      }
    },
    {
      "cell_type": "markdown",
      "source": [
        "Q 18) What is multiple inheritance in Python?\n",
        "\n",
        "    *Multiple inheritance allows a class to inherit attributes and methods from more than one parent class. This can lead to complexity, but Python handles it through the Method Resolution Order (MRO).\n",
        "\n",
        "Q 19) Explain the purpose of __str__ and __repr__ methods in Python.\n",
        "\n",
        "    *__str__: Returns a human-readable string representation of an object, used with print().\n",
        "\n",
        "    __repr__: Returns an official string representation meant for debugging; should ideally be unambiguous and include information to recreate the object."
      ],
      "metadata": {
        "id": "jn4hat2nALiy"
      }
    },
    {
      "cell_type": "markdown",
      "source": [
        "Q 20) What is the significance of the super() function in Python?\n",
        "\n",
        "    *super() is used to call methods from a parent or sibling class. It is commonly used in constructors to ensure proper initialization of inherited classes, especially in multiple inheritance.\n",
        "\n",
        "Q 21) What is the significance of the __del__ method in Python?\n",
        "\n",
        "    *__del__ is a destructor method called when an object is about to be destroyed. It is used to clean up resources like files or connections, though its use is limited due to the unpredictability of garbage collection."
      ],
      "metadata": {
        "id": "Eu7eChP-AW5c"
      }
    },
    {
      "cell_type": "markdown",
      "source": [
        "Q 22) What is the difference between @staticmethod and\n",
        "\n",
        "    *@classmethod in Python?\n",
        "\n",
        "    @staticmethod: Does not take any implicit first argument (no self or cls). Cannot access class or instance data.\n",
        "\n",
        "    @classmethod: Takes cls as the first parameter. Can access or modify class-level attributes and methods.\n",
        "\n",
        "Q 23) How does polymorphism work in Python with inheritance?\n",
        "\n",
        "    *In Python, polymorphism allows child classes to override methods of parent classes. The same method name can behave differently depending on the object type, which is achieved using inheritance and method overriding.\n",
        "\n",
        "Q 24) What is method chaining in Python OOP?\n",
        "\n",
        "    *Method chaining is a programming style where multiple methods are called on the same object in a single line. This is done by returning self from methods so subsequent methods can be called on the same object.\n",
        "\n",
        "Q 25) What is the purpose of the __call__ method in Python?\n",
        "    \n",
        "    *The __call__ method allows an instance of a class to be called as a function. It is used to make objects behave like functions and can encapsulate behavior that needs to be executed when the object is “called.”\n",
        "\n"
      ],
      "metadata": {
        "id": "k1WDBxpVAh-0"
      }
    },
    {
      "cell_type": "markdown",
      "source": [
        "# Practical Questions"
      ],
      "metadata": {
        "id": "THY7j0mhA_ur"
      }
    },
    {
      "cell_type": "code",
      "source": [
        "#Q 1) Parent and Child Class with Method Overriding\n",
        "\n",
        "class Animal:\n",
        "    def speak(self):\n",
        "        print(\"Generic animal sound\")\n",
        "\n",
        "class Dog(Animal):\n",
        "    def speak(self):\n",
        "        print(\"Bark!\")\n",
        "\n",
        "# Test\n",
        "a = Animal()\n",
        "a.speak()  # Output: Generic animal sound\n",
        "\n",
        "d = Dog()\n",
        "d.speak()  # Output: Bark!\n"
      ],
      "metadata": {
        "colab": {
          "base_uri": "https://localhost:8080/"
        },
        "id": "bW1hT-B_BDJl",
        "outputId": "82065fda-6752-4699-8774-0181546411b0"
      },
      "execution_count": 14,
      "outputs": [
        {
          "output_type": "stream",
          "name": "stdout",
          "text": [
            "Generic animal sound\n",
            "Bark!\n"
          ]
        }
      ]
    },
    {
      "cell_type": "code",
      "source": [
        "#Q 2) Abstract Class with area() Method\n",
        "from abc import ABC, abstractmethod\n",
        "\n",
        "class Shape(ABC):\n",
        "    @abstractmethod\n",
        "    def area(self):\n",
        "        pass\n",
        "\n",
        "class Circle(Shape):\n",
        "    def __init__(self, radius):\n",
        "        self.radius = radius\n",
        "\n",
        "    def area(self):\n",
        "        return 3.14 * self.radius * self.radius\n",
        "\n",
        "class Rectangle(Shape):\n",
        "    def __init__(self, width, height):\n",
        "        self.width = width\n",
        "        self.height = height\n",
        "\n",
        "    def area(self):\n",
        "        return self.width * self.height\n",
        "\n",
        "# Test\n",
        "c = Circle(5)\n",
        "print(c.area())  # Output: 78.5\n",
        "\n",
        "r = Rectangle(4, 5)\n",
        "print(r.area())  # Output: 20\n"
      ],
      "metadata": {
        "colab": {
          "base_uri": "https://localhost:8080/"
        },
        "id": "nmXtHq3xBso4",
        "outputId": "3783eb0b-3617-4539-8602-9865d8714011"
      },
      "execution_count": 16,
      "outputs": [
        {
          "output_type": "stream",
          "name": "stdout",
          "text": [
            "78.5\n",
            "20\n"
          ]
        }
      ]
    },
    {
      "cell_type": "code",
      "source": [
        "# Q3) Multi-level Inheritance\n",
        "class Vehicle:\n",
        "    def __init__(self, vehicle_type):\n",
        "        self.vehicle_type = vehicle_type\n",
        "\n",
        "class Car(Vehicle):\n",
        "    def __init__(self, vehicle_type, brand):\n",
        "        super().__init__(vehicle_type)\n",
        "        self.brand = brand\n",
        "\n",
        "class ElectricCar(Car):\n",
        "    def __init__(self, vehicle_type, brand, battery_capacity):\n",
        "        super().__init__(vehicle_type, brand)\n",
        "        self.battery_capacity = battery_capacity\n",
        "\n",
        "# Test\n",
        "e_car = ElectricCar(\"Four-wheeler\", \"Tesla\", \"100 kWh\")\n",
        "print(e_car.vehicle_type, e_car.brand, e_car.battery_capacity)\n"
      ],
      "metadata": {
        "colab": {
          "base_uri": "https://localhost:8080/"
        },
        "id": "y8yXo5q5BzaQ",
        "outputId": "08624cae-d0cf-4185-cc69-98849a5469fe"
      },
      "execution_count": 17,
      "outputs": [
        {
          "output_type": "stream",
          "name": "stdout",
          "text": [
            "Four-wheeler Tesla 100 kWh\n"
          ]
        }
      ]
    },
    {
      "cell_type": "code",
      "source": [
        "# Q 4) Demonstrate polymorphism by creating a base class Bird with a method fly(). Create two derived classes Sparrow and Penguin that override the fly() method.\n",
        "class Bird:\n",
        "    def fly(self):\n",
        "        print(\"Some birds can fly\")\n",
        "\n",
        "class Sparrow(Bird):\n",
        "    def fly(self):\n",
        "        print(\"Sparrow can fly\")\n",
        "\n",
        "class Penguin(Bird):\n",
        "    def fly(self):\n",
        "        print(\"Penguin can't fly\")\n",
        "\n",
        "# Test\n",
        "birds = [Sparrow(), Penguin()]\n",
        "for bird in birds:\n",
        "    bird.fly()\n"
      ],
      "metadata": {
        "colab": {
          "base_uri": "https://localhost:8080/"
        },
        "id": "wGtCoowjB-Eb",
        "outputId": "457fb6ab-9164-4bef-be39-e9b46311b6b8"
      },
      "execution_count": 18,
      "outputs": [
        {
          "output_type": "stream",
          "name": "stdout",
          "text": [
            "Sparrow can fly\n",
            "Penguin can't fly\n"
          ]
        }
      ]
    },
    {
      "cell_type": "code",
      "source": [
        "# Q5)  Write a program to demonstrate encapsulation by creating a class BankAccount with private attributes balance and methods to deposit, withdraw, and check balance.\n",
        "class BankAccount:\n",
        "    def __init__(self):\n",
        "        self.__balance = 0\n",
        "\n",
        "    def deposit(self, amount):\n",
        "        self.__balance += amount\n",
        "\n",
        "    def withdraw(self, amount):\n",
        "        if amount <= self.__balance:\n",
        "            self.__balance -= amount\n",
        "        else:\n",
        "            print(\"Insufficient balance\")\n",
        "\n",
        "    def check_balance(self):\n",
        "        return self.__balance\n",
        "\n",
        "# Test\n",
        "acc = BankAccount()\n",
        "acc.deposit(1000)\n",
        "acc.withdraw(200)\n",
        "print(acc.check_balance())  # Output: 800\n"
      ],
      "metadata": {
        "colab": {
          "base_uri": "https://localhost:8080/"
        },
        "id": "5okvzJATCo6N",
        "outputId": "a5a75da5-ecf1-4874-c679-1064b4017545"
      },
      "execution_count": 19,
      "outputs": [
        {
          "output_type": "stream",
          "name": "stdout",
          "text": [
            "800\n"
          ]
        }
      ]
    },
    {
      "cell_type": "code",
      "source": [
        "# Q 6)  Demonstrate runtime polymorphism using a method play() in a base class Instrument. Derive classes Guitar and Piano that implement their own version of play().\n",
        "class Instrument:\n",
        "    def play(self):\n",
        "        print(\"Instrument is playing\")\n",
        "\n",
        "class Guitar(Instrument):\n",
        "    def play(self):\n",
        "        print(\"Guitar is strumming\")\n",
        "\n",
        "class Piano(Instrument):\n",
        "    def play(self):\n",
        "        print(\"Piano is playing notes\")\n",
        "\n",
        "# Demonstrating runtime polymorphism\n",
        "def start_playing(instrument):\n",
        "    instrument.play()\n",
        "\n",
        "# Create objects of derived classes\n",
        "g = Guitar()\n",
        "p = Piano()\n",
        "\n",
        "# Call play() method using base class reference\n",
        "start_playing(g)  # Output: Guitar is strumming\n",
        "start_playing(p)  # Output: Piano is playing notes\n"
      ],
      "metadata": {
        "colab": {
          "base_uri": "https://localhost:8080/"
        },
        "id": "PT9imwA4C3jx",
        "outputId": "40285420-6a77-4433-83a9-2af90e9299bf"
      },
      "execution_count": 20,
      "outputs": [
        {
          "output_type": "stream",
          "name": "stdout",
          "text": [
            "Guitar is strumming\n",
            "Piano is playing notes\n"
          ]
        }
      ]
    },
    {
      "cell_type": "code",
      "source": [
        "#Q 7)  Create a class MathOperations with a class method add_numbers() to add two numbers and a static method subtract_numbers() to subtract two numbers.\n",
        "class MathOperations:\n",
        "\n",
        "    @classmethod\n",
        "    def add_numbers(cls, a, b):\n",
        "        return a + b\n",
        "\n",
        "    @staticmethod\n",
        "    def subtract_numbers(a, b):\n",
        "        return a - b\n",
        "\n",
        "# Test\n",
        "print(\"Addition:\", MathOperations.add_numbers(10, 5))     # Output: 15\n",
        "print(\"Subtraction:\", MathOperations.subtract_numbers(10, 5))  # Output: 5\n"
      ],
      "metadata": {
        "colab": {
          "base_uri": "https://localhost:8080/"
        },
        "id": "l-QQkfkkDAOA",
        "outputId": "fc750188-6411-4812-ba40-b65f028366e0"
      },
      "execution_count": 24,
      "outputs": [
        {
          "output_type": "stream",
          "name": "stdout",
          "text": [
            "Addition: 15\n",
            "Subtraction: 5\n"
          ]
        }
      ]
    },
    {
      "cell_type": "code",
      "source": [
        "# Q 8)  Implement a class Person with a class method to count the total number of persons created.\n",
        "class Person:\n",
        "    count = 0  # Class variable to track number of persons\n",
        "\n",
        "    def __init__(self, name):\n",
        "        self.name = name\n",
        "        Person.count += 1\n",
        "\n",
        "    @classmethod\n",
        "    def total_persons(cls):\n",
        "        return cls.count\n",
        "\n",
        "# Test\n",
        "p1 = Person(\"Alice\")\n",
        "p2 = Person(\"Bob\")\n",
        "p3 = Person(\"Charlie\")\n",
        "\n",
        "print(\"Total persons created:\", Person.total_persons())  # Output: 3\n"
      ],
      "metadata": {
        "colab": {
          "base_uri": "https://localhost:8080/"
        },
        "id": "gj-LHbSCC_xb",
        "outputId": "280d6b89-fac6-4332-becd-13409fc7e672"
      },
      "execution_count": 25,
      "outputs": [
        {
          "output_type": "stream",
          "name": "stdout",
          "text": [
            "Total persons created: 3\n"
          ]
        }
      ]
    },
    {
      "cell_type": "code",
      "source": [
        "# Q 9) Write a class Fraction with attributes numerator and denominator. Override the str method to display the fraction as \"numerator/denominator\".\n",
        "class Fraction:\n",
        "    def __init__(self, numerator, denominator):\n",
        "        self.numerator = numerator\n",
        "        self.denominator = denominator\n",
        "\n",
        "    def __str__(self):\n",
        "        return f\"{self.numerator}/{self.denominator}\"\n",
        "\n",
        "# Test\n",
        "f = Fraction(3, 4)\n",
        "print(f)  # Output: 3/4\n"
      ],
      "metadata": {
        "colab": {
          "base_uri": "https://localhost:8080/"
        },
        "id": "NPAATg_oC_kC",
        "outputId": "5ef8b23e-7cda-44bf-d772-0c329727cc9d"
      },
      "execution_count": 26,
      "outputs": [
        {
          "output_type": "stream",
          "name": "stdout",
          "text": [
            "3/4\n"
          ]
        }
      ]
    },
    {
      "cell_type": "code",
      "source": [
        "# Q 10) Demonstrate operator overloading by creating a class Vector and overriding the add method to add two vectors.\n",
        "class Vector:\n",
        "    def __init__(self, x, y):\n",
        "        self.x = x\n",
        "        self.y = y\n",
        "\n",
        "    def __add__(self, other):\n",
        "        return Vector(self.x + other.x, self.y + other.y)\n",
        "\n",
        "    def __str__(self):\n",
        "        return f\"Vector({self.x}, {self.y})\"\n",
        "\n",
        "# Test\n",
        "v1 = Vector(2, 3)\n",
        "v2 = Vector(4, 1)\n",
        "v3 = v1 + v2\n",
        "print(v3)  # Output: Vector(6, 4)\n"
      ],
      "metadata": {
        "colab": {
          "base_uri": "https://localhost:8080/"
        },
        "id": "O-uwoYJpC_XZ",
        "outputId": "c889047a-4132-4b7a-bb85-f4bf412e876d"
      },
      "execution_count": 27,
      "outputs": [
        {
          "output_type": "stream",
          "name": "stdout",
          "text": [
            "Vector(6, 4)\n"
          ]
        }
      ]
    },
    {
      "cell_type": "code",
      "source": [
        "# Q 11)  Create a class Person with attributes name and age. Add a method greet() that prints \"Hello, my name is {name} and I am {age} years old.\"\n",
        "class Person:\n",
        "    def __init__(self, name, age):\n",
        "        self.name = name\n",
        "        self.age = age\n",
        "\n",
        "    def greet(self):\n",
        "        print(f\"Hello, my name is {self.name} and I am {self.age} years old.\")\n",
        "\n",
        "# Test\n",
        "p = Person(\"Anmol\", 21)\n",
        "p.greet()\n",
        "# Output: Hello, my name is Anmol and I am 21 years old.\n",
        "\n"
      ],
      "metadata": {
        "colab": {
          "base_uri": "https://localhost:8080/"
        },
        "id": "-FItfeu9C_JG",
        "outputId": "c282c0ec-fca8-4e67-bf2c-b09ca282dbe2"
      },
      "execution_count": 28,
      "outputs": [
        {
          "output_type": "stream",
          "name": "stdout",
          "text": [
            "Hello, my name is Anmol and I am 21 years old.\n"
          ]
        }
      ]
    },
    {
      "cell_type": "code",
      "source": [
        "# Q 12) Implement a class Student with attributes name and grades. Create a method average_grade() to compute the average of the grades.\n",
        "class Student:\n",
        "    def __init__(self, name, grades):\n",
        "        self.name = name\n",
        "        self.grades = grades  # List of numbers\n",
        "\n",
        "    def average_grade(self):\n",
        "        if self.grades:\n",
        "            return sum(self.grades) / len(self.grades)\n",
        "        else:\n",
        "            return 0\n",
        "\n",
        "# Test\n",
        "s = Student(\"Anmol\", [85, 90, 78])\n",
        "print(f\"{s.name}'s average grade is {s.average_grade():.2f}\")\n",
        "# Output: Anmol's average grade is 84.33\n"
      ],
      "metadata": {
        "colab": {
          "base_uri": "https://localhost:8080/"
        },
        "id": "ygfuIpw6C-7C",
        "outputId": "32bf499e-171b-4fb3-bb5b-dbf23d0884be"
      },
      "execution_count": 29,
      "outputs": [
        {
          "output_type": "stream",
          "name": "stdout",
          "text": [
            "Anmol's average grade is 84.33\n"
          ]
        }
      ]
    },
    {
      "cell_type": "code",
      "source": [
        "# Q 13)  Create a class Rectangle with methods set_dimensions() to set the dimensions and area() to calculate the area.\n",
        "class Rectangle:\n",
        "    def __init__(self):\n",
        "        self.length = 0\n",
        "        self.width = 0\n",
        "\n",
        "    def set_dimensions(self, length, width):\n",
        "        self.length = length\n",
        "        self.width = width\n",
        "\n",
        "    def area(self):\n",
        "        return self.length * self.width\n",
        "\n",
        "# Test\n",
        "r = Rectangle()\n",
        "r.set_dimensions(10, 5)\n",
        "print(f\"Area of rectangle: {r.area()}\")\n",
        "# Output: Area of rectangle: 50\n"
      ],
      "metadata": {
        "colab": {
          "base_uri": "https://localhost:8080/"
        },
        "id": "Cz0U99i7C-tb",
        "outputId": "621c3909-e41f-4737-9b7f-21e9eefbce3d"
      },
      "execution_count": 30,
      "outputs": [
        {
          "output_type": "stream",
          "name": "stdout",
          "text": [
            "Area of rectangle: 50\n"
          ]
        }
      ]
    },
    {
      "cell_type": "code",
      "source": [
        "# Q 14)  Create a class Employee with a method calculate_salary() that computes the salary based on hours worked and hourly rate. Create a derived class Manager that adds a bonus to the salary.\n",
        "class Employee:\n",
        "    def __init__(self, name, hours_worked, hourly_rate):\n",
        "        self.name = name\n",
        "        self.hours_worked = hours_worked\n",
        "        self.hourly_rate = hourly_rate\n",
        "\n",
        "    def calculate_salary(self):\n",
        "        return self.hours_worked * self.hourly_rate\n",
        "\n",
        "class Manager(Employee):\n",
        "    def __init__(self, name, hours_worked, hourly_rate, bonus):\n",
        "        super().__init__(name, hours_worked, hourly_rate)\n",
        "        self.bonus = bonus\n",
        "\n",
        "    def calculate_salary(self):\n",
        "        base_salary = super().calculate_salary()\n",
        "        return base_salary + self.bonus\n",
        "\n",
        "# Test\n",
        "emp = Employee(\"John\", 40, 20)\n",
        "print(f\"{emp.name}'s salary: {emp.calculate_salary()}\")  # Output: 800\n",
        "\n",
        "mgr = Manager(\"Alice\", 40, 30, 500)\n",
        "print(f\"{mgr.name}'s salary: {mgr.calculate_salary()}\")  # Output: 1700\n"
      ],
      "metadata": {
        "colab": {
          "base_uri": "https://localhost:8080/"
        },
        "id": "J--b5xGoC-gr",
        "outputId": "925dede3-d27d-47de-f839-dd882b757574"
      },
      "execution_count": 31,
      "outputs": [
        {
          "output_type": "stream",
          "name": "stdout",
          "text": [
            "John's salary: 800\n",
            "Alice's salary: 1700\n"
          ]
        }
      ]
    },
    {
      "cell_type": "code",
      "source": [
        "# Q 15)  Create a class Product with attributes name, price, and quantity. Implement a method total_price() that calculates the total price of the product.\n",
        "class Product:\n",
        "    def __init__(self, name, price, quantity):\n",
        "        self.name = name\n",
        "        self.price = price\n",
        "        self.quantity = quantity\n",
        "\n",
        "    def total_price(self):\n",
        "        return self.price * self.quantity\n",
        "\n",
        "# Test\n",
        "p = Product(\"Notebook\", 50, 4)\n",
        "print(f\"Total price for {p.name}s: ₹{p.total_price()}\")\n",
        "# Output: Total price for Notebooks: ₹200\n"
      ],
      "metadata": {
        "colab": {
          "base_uri": "https://localhost:8080/"
        },
        "id": "LtEaQKgfC-RX",
        "outputId": "da8edb9a-d581-42bf-9092-704e4330a3ac"
      },
      "execution_count": 32,
      "outputs": [
        {
          "output_type": "stream",
          "name": "stdout",
          "text": [
            "Total price for Notebooks: ₹200\n"
          ]
        }
      ]
    },
    {
      "cell_type": "code",
      "source": [
        "# Q 16) Create a class Animal with an abstract method sound(). Create two derived classes Cow and Sheep that implement the sound() method.\n",
        "from abc import ABC, abstractmethod\n",
        "\n",
        "class Animal(ABC):\n",
        "    @abstractmethod\n",
        "    def sound(self):\n",
        "        pass\n",
        "\n",
        "class Cow(Animal):\n",
        "    def sound(self):\n",
        "        return \"Moo\"\n",
        "\n",
        "class Sheep(Animal):\n",
        "    def sound(self):\n",
        "        return \"Baa\"\n",
        "\n",
        "# Test\n",
        "c = Cow()\n",
        "s = Sheep()\n",
        "print(\"Cow sound:\", c.sound())     # Output: Moo\n",
        "print(\"Sheep sound:\", s.sound())   # Output: Baa\n"
      ],
      "metadata": {
        "colab": {
          "base_uri": "https://localhost:8080/"
        },
        "id": "wFp61Y1mC-Ci",
        "outputId": "e4fdc3f0-015c-4fe8-e127-3fa463ebbff3"
      },
      "execution_count": 33,
      "outputs": [
        {
          "output_type": "stream",
          "name": "stdout",
          "text": [
            "Cow sound: Moo\n",
            "Sheep sound: Baa\n"
          ]
        }
      ]
    },
    {
      "cell_type": "code",
      "source": [
        "# Q 17) . Create a class Book with attributes title, author, and year_published. Add a method get_book_info() that returns a formatted string with the book's details.\n",
        "class Book:\n",
        "    def __init__(self, title, author, year_published):\n",
        "        self.title = title\n",
        "        self.author = author\n",
        "        self.year_published = year_published\n",
        "\n",
        "    def get_book_info(self):\n",
        "        return f\"'{self.title}' by {self.author} (Published in {self.year_published})\"\n",
        "\n",
        "# Test\n",
        "b = Book(\"The Alchemist\", \"Paulo Coelho\", 1988)\n",
        "print(b.get_book_info())\n",
        "# Output: 'The Alchemist' by Paulo Coelho (Published in 1988)\n"
      ],
      "metadata": {
        "colab": {
          "base_uri": "https://localhost:8080/"
        },
        "id": "cCGXcqdOC9wg",
        "outputId": "9c886359-2603-4367-f8da-4ca776bfd6c0"
      },
      "execution_count": 34,
      "outputs": [
        {
          "output_type": "stream",
          "name": "stdout",
          "text": [
            "'The Alchemist' by Paulo Coelho (Published in 1988)\n"
          ]
        }
      ]
    },
    {
      "cell_type": "code",
      "source": [
        "# Q 18)  Create a class House with attributes address and price. Create a derived class Mansion that adds an attribute number_of_rooms.\n",
        "class House:\n",
        "    def __init__(self, address, price):\n",
        "        self.address = address\n",
        "        self.price = price\n",
        "\n",
        "class Mansion(House):\n",
        "    def __init__(self, address, price, number_of_rooms):\n",
        "        super().__init__(address, price)\n",
        "        self.number_of_rooms = number_of_rooms\n",
        "\n",
        "# Test\n",
        "m = Mansion(\"123 Elite Street\", 5000000, 10)\n",
        "print(f\"Address: {m.address}\")\n",
        "print(f\"Price: ₹{m.price}\")\n",
        "print(f\"Number of Rooms: {m.number_of_rooms}\")\n"
      ],
      "metadata": {
        "colab": {
          "base_uri": "https://localhost:8080/"
        },
        "id": "veCZfpWAC9bJ",
        "outputId": "7997b604-4084-40a0-c90c-b9fb48873d07"
      },
      "execution_count": 35,
      "outputs": [
        {
          "output_type": "stream",
          "name": "stdout",
          "text": [
            "Address: 123 Elite Street\n",
            "Price: ₹5000000\n",
            "Number of Rooms: 10\n"
          ]
        }
      ]
    },
    {
      "cell_type": "code",
      "source": [],
      "metadata": {
        "id": "8OvK7soVFp2_"
      },
      "execution_count": null,
      "outputs": []
    }
  ]
}